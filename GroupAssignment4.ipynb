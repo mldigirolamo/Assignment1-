{
  "nbformat": 4,
  "nbformat_minor": 0,
  "metadata": {
    "colab": {
      "name": "GroupAssignment4",
      "provenance": [],
      "collapsed_sections": []
    },
    "kernelspec": {
      "name": "python3",
      "display_name": "Python 3"
    }
  },
  "cells": [
    {
      "cell_type": "code",
      "metadata": {
        "id": "L874fItmEnNa",
        "colab_type": "code",
        "outputId": "e3903e2a-540d-4d88-9bd4-8e38098d0806",
        "colab": {
          "base_uri": "https://localhost:8080/",
          "height": 232
        }
      },
      "source": [
        "import sqlite3 \n",
        "connectionToDatabase = sqlite3.connect('AmusementParkData') \n",
        "cursor = connectionToDatabase.cursor()\n",
        "cursor.execute('''drop table IF EXISTS ConcessionsTable''')\n",
        "connectionToDatabase.commit()\n",
        "\n",
        "cursor.execute('''create table ConcessionsTable (concessionID PRIMARY KEY, name, location, foodtype,  employeeID)''')\n",
        "connectionToDatabase.commit()\n",
        "\n",
        "cursor.execute('''drop table IF EXISTS rideTable''')\n",
        "connectionToDatabase.commit()\n",
        "\n",
        "cursor.execute('''create table rideTable (rideID PRIMARY KEY, name, location, intensity, waittime, employeeID)''')\n",
        "connectionToDatabase.commit()\n",
        " \n",
        "cursor.execute('''drop table IF EXISTS salesTable''')\n",
        "connectionToDatabase.commit()\n",
        "\n",
        "cursor.execute('''create table salesTable (saleID PRIMARY KEY, customerID, foodID, employeeID, concessionID)''')\n",
        "connectionToDatabase.commit()\n",
        "\n",
        "cursor.execute('''drop table IF EXISTS customerTable''')\n",
        "connectionToDatabase.commit()\n",
        "\n",
        "cursor.execute('''create table customerTable (customerID PRIMARY KEY, name, email, age, gender, passtype)''')\n",
        "\n",
        "cursor.execute('''drop table IF EXISTS employeeTable''')\n",
        "connectionToDatabase.commit()\n",
        "\n",
        "cursor.execute('''create table employeeTable (employeeID PRIMARY KEY, FirstName, LastName, ExperiecneLevel)''')\n",
        "connectionToDatabase.commit()\n",
        "\n",
        "cursor.execute('''drop table IF EXISTS foodTable''')\n",
        "connectionToDatabase.commit()\n",
        "\n",
        "cursor.execute('''create table foodTable (concessionID PRIMARY KEY, price, size, vegan, glutton free)''')\n",
        "connectionToDatabase.commit()\n",
        "\n",
        "for line in AmusementParkData.split(\"\\n\")[1:]:\n",
        "  data = line.split(\",\")\n",
        "  insertStatement =  \"\"\"insert into ConcessionsTable values (\"%s\",%s,%s,%s)\"\"\" % (data[0],data[1],data[2],data[3])\n",
        "  cursor.execute(insertStatement)\n",
        "  connectionToDatabase.commit()\n",
        "  "
      ],
      "execution_count": 0,
      "outputs": [
        {
          "output_type": "error",
          "ename": "NameError",
          "evalue": "ignored",
          "traceback": [
            "\u001b[0;31m---------------------------------------------------------------------------\u001b[0m",
            "\u001b[0;31mNameError\u001b[0m                                 Traceback (most recent call last)",
            "\u001b[0;32m<ipython-input-4-2aa9c4f87afe>\u001b[0m in \u001b[0;36m<module>\u001b[0;34m()\u001b[0m\n\u001b[1;32m     37\u001b[0m \u001b[0mconnectionToDatabase\u001b[0m\u001b[0;34m.\u001b[0m\u001b[0mcommit\u001b[0m\u001b[0;34m(\u001b[0m\u001b[0;34m)\u001b[0m\u001b[0;34m\u001b[0m\u001b[0;34m\u001b[0m\u001b[0m\n\u001b[1;32m     38\u001b[0m \u001b[0;34m\u001b[0m\u001b[0m\n\u001b[0;32m---> 39\u001b[0;31m \u001b[0;32mfor\u001b[0m \u001b[0mline\u001b[0m \u001b[0;32min\u001b[0m \u001b[0mAmusementParkData\u001b[0m\u001b[0;34m.\u001b[0m\u001b[0msplit\u001b[0m\u001b[0;34m(\u001b[0m\u001b[0;34m\"\\n\"\u001b[0m\u001b[0;34m)\u001b[0m\u001b[0;34m[\u001b[0m\u001b[0;36m1\u001b[0m\u001b[0;34m:\u001b[0m\u001b[0;34m]\u001b[0m\u001b[0;34m:\u001b[0m\u001b[0;34m\u001b[0m\u001b[0;34m\u001b[0m\u001b[0m\n\u001b[0m\u001b[1;32m     40\u001b[0m   \u001b[0mdata\u001b[0m \u001b[0;34m=\u001b[0m \u001b[0mline\u001b[0m\u001b[0;34m.\u001b[0m\u001b[0msplit\u001b[0m\u001b[0;34m(\u001b[0m\u001b[0;34m\",\"\u001b[0m\u001b[0;34m)\u001b[0m\u001b[0;34m\u001b[0m\u001b[0;34m\u001b[0m\u001b[0m\n\u001b[1;32m     41\u001b[0m   \u001b[0minsertStatement\u001b[0m \u001b[0;34m=\u001b[0m  \u001b[0;34m\"\"\"insert into ConcessionsTable values (\"%s\",%s,%s,%s)\"\"\"\u001b[0m \u001b[0;34m%\u001b[0m \u001b[0;34m(\u001b[0m\u001b[0mdata\u001b[0m\u001b[0;34m[\u001b[0m\u001b[0;36m0\u001b[0m\u001b[0;34m]\u001b[0m\u001b[0;34m,\u001b[0m\u001b[0mdata\u001b[0m\u001b[0;34m[\u001b[0m\u001b[0;36m1\u001b[0m\u001b[0;34m]\u001b[0m\u001b[0;34m,\u001b[0m\u001b[0mdata\u001b[0m\u001b[0;34m[\u001b[0m\u001b[0;36m2\u001b[0m\u001b[0;34m]\u001b[0m\u001b[0;34m,\u001b[0m\u001b[0mdata\u001b[0m\u001b[0;34m[\u001b[0m\u001b[0;36m3\u001b[0m\u001b[0;34m]\u001b[0m\u001b[0;34m)\u001b[0m\u001b[0;34m\u001b[0m\u001b[0;34m\u001b[0m\u001b[0m\n",
            "\u001b[0;31mNameError\u001b[0m: name 'AmusementParkData' is not defined"
          ]
        }
      ]
    },
    {
      "cell_type": "markdown",
      "metadata": {
        "id": "ndjaE7lpHY5H",
        "colab_type": "text"
      },
      "source": [
        "# Questions: \n",
        "### 1: What are the 3 most popular rides? \n",
        "We think that knowing the 3 most popular rides will help us to understand what kinds of rides our customers like the best. This can help us plan if we ever want to invest in new rides we know what types to incorporate in the park. Also, knowing what rides are the most popular, we can figure out where there is more customer “traffic” and we can add more vendors selling food/drinks and toys to maximize profit.\n",
        "### 2: What are the top 5 concessions sold at the park? \n",
        "We decided to explore which of our concessions are most popular in order to better allocate our resources. For example if we see that there are concessions that are significantly more popular, we can sell them at additional locations.  We also may want to advertise more popular concessions and perhaps order more of those concessions to keep up with demand.\n",
        "## 3: What are the employees with the lowest experience level?\n",
        "The information extracted from this question is vital to the operations of our amusement park. We need to know which employees do not have much experience so that we can make sure they are working with people who are more experienced. If there are too many low experienced employees working at once, it could cause multiple problems within the operations of the rides and concession stands. They need higher levels working with them to keep things running smoothly. \n"
      ]
    }
  ]
}