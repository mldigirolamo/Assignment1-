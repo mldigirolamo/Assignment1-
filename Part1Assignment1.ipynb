{
 "cells": [
  {
   "cell_type": "markdown",
   "metadata": {},
   "source": [
    "# Car Rental Business \n",
    "## Overview \n",
    "A car rental company is an option for a business where well kept data is critical for the business to operate. The car rental business will have locations across the United States for people to rent and return the borrowed cars.  Car rental companies are already a well-established industry, so this business for focus on renting cars to other operations, where their employees travel frequently.  Therefore, the business will have both daily rentals for short term trips as well as contracts for longer term car rentals.  Doing both will allow the company to be more convenient to other businesses since they can do all their car rentals from one business.  In a typical business day, employee would help with the return of rental cars, guide our clients with which car and insurance plan they should purchase, and inspect cars for damages. \n",
    "\n",
    "## Tables  \n",
    "1. One table will include all the cars with information about their price, model, brand, and features.  \n",
    "2. The second table will include all the cars and how much it is to rent them for short term periods of time or for contract. \n",
    "3. There will be a table listing all the cars and their condition/damages. \n",
    "4. For the dynamic table there will be list of the cars and a variable telling if the car is available to be rented (not in use), the location it was rented from, and the location it is expected to be dropped off at.\n",
    "5. The last table will show the location of all of the cars. \n",
    "\n",
    "## Goal\n",
    "The tables will be used to help us figure out which kinds of cars should be at our different locations. Table 1 and table 5 will be used to see what kinds of cars we currently have our different locations, Table 4 will show us which of those cars are being used from those locations. We will judged which cars are most frequently used as cars clients want.\n",
    "\n",
    "## Relational Diagram \n",
    "![title](Cars.jpg)"
   ]
  },
  {
   "cell_type": "code",
   "execution_count": null,
   "metadata": {},
   "outputs": [],
   "source": []
  },
  {
   "cell_type": "code",
   "execution_count": null,
   "metadata": {},
   "outputs": [],
   "source": []
  },
  {
   "cell_type": "markdown",
   "metadata": {},
   "source": [
    "# Amusement Park\n",
    "## Overview \n",
    "One idea for a database system is for an amusement park. This park is called Planet Fun and focuses on a zero-gravity space theme. The idea of an amusement park is not unique, but what makes it different from other ideas is the focus of space entirely. A typical interaction would operate with a person buying a ticket to the amusement park, then they go to the rides and concessions. Their activity could be tracked by the tables, and the maintenance of the park could be adjusted accordingly.\n",
    "\n",
    "## Tables \n",
    "\n",
    "1. The first table would be of rides that are available. This would include details about the ride such as wait times to get on, length of ride in feet, intensity of ride, location of ride, maintenance status, and height needed to get on the ride.\n",
    "\n",
    "1.  The second table would organize concessions. This would include location of concessions, number of nearby restrooms, number of nearby trash cans, and number of available seating.\n",
    "\n",
    "1.  The third table would be about food and drinks. This would include available items, cost of items, size of items, and item descriptors such as glutton free or vegan.\n",
    "\n",
    "1.  The fourth table would be for employees. This would include employee information such as name, where they are stationed, clock in and clock out times, status of employee (such as hourly or managerial), wage/salary, and descriptors such as gender/age (or any other information the employee wants to be known).\n",
    "\n",
    "1.  The fifth and last table would be the end user table. This would include number of people in the amusement park, items being purchased and used, rides being enjoyed, issues that arise, current weather, and any other special information. The end user table would use information from the other four tables to calculate/keep up with changing scenarios.\n",
    "\n",
    "1.  With the end user table being flexible, it needs to be altered only with the customer/employee interaction and/or the world/amusement park interaction. These acknowledgements are vital to make sure that the amusement park remains an entertaining and safe environment.\n",
    "\n",
    "## Goal\n",
    "ThOur goal is to figure out which types of rides and concessions are the most popular.  We will use table 1, 2, and 3 to help us categorize the rides and concessions, and will use the fifth table to see in real time which rides and concessions are most popular.  We want to see if things like rollercoasters are more popular than water rides, or what kind of nutrition for food our customers prefer.  This will let us know which kinds of rides and concessions we should include when we expand our park. \n",
    "\n",
    "## Relational Diagram \n",
    "![title](AmusementPark.png)"
   ]
  },
  {
   "cell_type": "markdown",
   "metadata": {},
   "source": [
    "# Restaurant\n",
    "## Overview\n",
    "This idea is for a restaurant called Nom-Noms. Nom-Noms’ menu is a large one with a lot of different dishes from around the world and also some unique creations by Nom-Noms’ head chef. Menu items range from hamburgers and hot dogs to special french dishes. They provide an atmosphere that is family friendly with affordable prices. Nom-Noms is known for their very nice staff who are always trying to ensure that customers receive the absolute best experience possible. The average meal typically costs only twelve dollars per person. Kids under ten also get a free meal every Tuesday night and free dessert every night of the week.  Besides their excellent cuisine, what makes Nom-Noms so special is that they guarantee customers that their wait time to be served their main course will never take longer than ten minutes. In order to accomplish this, Nom-Noms pays very careful attention to their customers' habits. A typical visit to the restaurant consists of guests being seated at their table. As soon as the order is placed it immediately begins to get prepared by the chefs at Nom-Noms. While customers wait for their meal to be prepared they can look around and feel like they are in the future because of Nom-Noms interesting 2100 theme. But before the customers know it, their food has been served per Nom-Noms ten minute guarantee. Customers always leave satisfied and so do their wallets. Nom-Noms is not a fast-food restaurant, Nom-Noms is a restaurant that gets customers their food fast. \n",
    "\n",
    "## Tables \n",
    "  1.   The first table would consist of each of the meals Nom-Noms serves and what price they sell for. This would also include what is in each dish and how long it takes to prepare. \n",
    "  2.  The second table would include the time of day and how many customers are in the restaurant. \n",
    "  1.   The third table would display the amount of employees on staff on a given day and the time that it takes for customers to receive their food. \n",
    "  1.   The fourth table would have the types of dishes ordered and the day of the week. This table will also include the time of day and whether the meal was consider breakfast, lunch, or dinner. \n",
    "  1.   The final table would be the end-user data. This would include a customer satisfaction rating and whether or not a customer would return and if they would recommend Nom-Noms. \n",
    "\n",
    "## Goal \n",
    "The goal of this data table is to make Nom-Noms the most efficient it can be. It tries to predict what meals are popular and when and what days of the week are most busy. The data collected allows management to better understand their customers and how to make Nom-Noms the best experience possible. \n",
    "\n",
    "## Relational Diagram \n",
    "![title](Restaurant.jpg)"
   ]
  },
  {
   "cell_type": "code",
   "execution_count": null,
   "metadata": {},
   "outputs": [],
   "source": []
  }
 ],
 "metadata": {
  "kernelspec": {
   "display_name": "Python 3",
   "language": "python",
   "name": "python3"
  },
  "language_info": {
   "codemirror_mode": {
    "name": "ipython",
    "version": 3
   },
   "file_extension": ".py",
   "mimetype": "text/x-python",
   "name": "python",
   "nbconvert_exporter": "python",
   "pygments_lexer": "ipython3",
   "version": "3.7.3"
  }
 },
 "nbformat": 4,
 "nbformat_minor": 2
}
