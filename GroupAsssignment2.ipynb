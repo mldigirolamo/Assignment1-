{
 "cells": [
  {
   "cell_type": "markdown",
   "metadata": {},
   "source": [
    "The purpose of this entity relationship diagram is to track information on rides, customers, concessions, sales, employees, and food at an amusement park.  At the amusement park, customers can ride rides and make purchases at concessions.  To identify customers and collect better data the primary key CustomerID has the attributes name, email, age, gender, and pass type.  Pass type includes season and single day passes that are purchased.  For each transaction made, we give it a saleID as a primary key, and we keep track of  the customer, food purchased, the employee that was involved, and the concession table.  Not every transaction must be for food or at a concession table or has an employee involved.  This is our table that changes and needs to be updated when additional transactions occur.  Concession tables are given a concessionID for their primary key and have a name, location, food type, and the employee’s ID that works there. There will be a single employee at every concession table. The EmployeeID is the primary key for the employee table. This table keeps track of the first and last name of the employee and their experience level.  The EmployeeID is also a foreign key for the ride table in addition to the sales and concessions table. The Ride Table uses rideID as a primary key for each ride at the park and keeps track of its name, location, intensity, average wait time, and the single employee that works there.  Lastly, our Food Table gives each food a foodID and gives information on its price, size, if it is vegan and gluten-free.  It was concessionID as a foreign key, telling us which concession table the food is located at.  \n",
    "![title](Amusement.png)"
   ]
  },
  {
   "cell_type": "code",
   "execution_count": null,
   "metadata": {},
   "outputs": [],
   "source": []
  }
 ],
 "metadata": {
  "kernelspec": {
   "display_name": "Python 3",
   "language": "python",
   "name": "python3"
  },
  "language_info": {
   "codemirror_mode": {
    "name": "ipython",
    "version": 3
   },
   "file_extension": ".py",
   "mimetype": "text/x-python",
   "name": "python",
   "nbconvert_exporter": "python",
   "pygments_lexer": "ipython3",
   "version": "3.7.3"
  }
 },
 "nbformat": 4,
 "nbformat_minor": 2
}
