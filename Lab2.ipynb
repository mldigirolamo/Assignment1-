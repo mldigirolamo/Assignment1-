{
 "cells": [
  {
   "cell_type": "markdown",
   "metadata": {},
   "source": [
    "The purpose of this entity relationship diagram is to track pet and food purchases at a pet store. At this pet store, customers are able to purchase food for their pets and adopt either pets or fish. In order to identify customers and collect better data the primary key Customer ID has the attributes name, email, and loyalty member status. This is basic information about our customers along with their loyalty member status, which they can earn points by buying more pets and food and use the points to receive discounts off future purchases. Both fish and pets are identified by their breed, gender, and location within the pet store. Food can be purchased by customers but is also purchased by the pet store to feed their pets. The primary key Food ID has the attributes food type, quantity, and expiration. All customers transactions consist of either pets or food. When a customer purchases a pet and gives all relevant information, the diagram flows from Customer ID to Transaction Pet. The primary key TransactionPetID has the attributes of quantity, transaction date, and whether or not a customer was apart of the loyalty program and how many points they have. TransactionPetID also includes three foreign keys that are CustomerID, FishID, and PetID. When a customer purchases food a similar process happens as with Transaction Pet. Food transactions are known by the primary key TransactionFoodID. This primary key has the attributes quantity, transaction date, and whether or not a customer was apart of the loyalty program. It has the foreign keys FoodID and CustomerID. All purchases flow from customer/store to transaction."
   ]
  }
 ],
 "metadata": {
  "kernelspec": {
   "display_name": "Python 3",
   "language": "python",
   "name": "python3"
  },
  "language_info": {
   "codemirror_mode": {
    "name": "ipython",
    "version": 3
   },
   "file_extension": ".py",
   "mimetype": "text/x-python",
   "name": "python",
   "nbconvert_exporter": "python",
   "pygments_lexer": "ipython3",
   "version": "3.7.3"
  }
 },
 "nbformat": 4,
 "nbformat_minor": 2
}
