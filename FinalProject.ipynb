{
 "cells": [
  {
   "cell_type": "markdown",
   "metadata": {
    "colab_type": "text",
    "id": "2uWBDNoJhpRN"
   },
   "source": [
    "# Project Description\n",
    "This idea is of an Amusement Park named Planet Fun with hundreds of rides, activities, concessions, and employees. The idea of an Amusement Park is one that has been around for years, but what makes this park special is that it is Space Themed! We chose this project because it was a business we all thought was interesting and interactive. We believe that database management is an integral part of this business and we wanted to test it through this project. The rides will range from twisty rollercoasters to light playground swings. There will be a cool mix of science presented at each ride so that the kids will be able to learn something new while having so much fun. The food is available inside the park at different concession, but will be a separate cost for customers not included in the ticket cost. All the food is priced differently.We started by specifying the five entities in the amuesment park which are: End users (customers), employees, rides, concessions, food/drinks. As a group, we decided that these factors are the most integral parts of our amusement park business and that we need to focus on how to sort data in order to see where we have to optimize our business. Our goal is to figure out which types of rides and concessions are the most popular. We will use data tables in our ER diagram to help us categorize the rides and concessions, and  to see in real time which rides and concessions are most popular. This will let us know which kinds of rides and concessions we should include when we expand our park. We got to our final ER diagram by going off the five entities we listed above. We started by identifying relationships between entities and we connected them and added how they interacted in the middle with words like \"buy\". Finally, we added cardinality with numbers we thought were apppropriate.  "
   ]
  },
  {
   "cell_type": "markdown",
   "metadata": {
    "colab_type": "text",
    "id": "CqUHbx5ai8P_"
   },
   "source": [
    "# Video"
   ]
  },
  {
   "cell_type": "code",
   "execution_count": 1,
   "metadata": {
    "colab": {
     "base_uri": "https://localhost:8080/",
     "height": 336
    },
    "colab_type": "code",
    "id": "E3rWOTkHggmK",
    "outputId": "34aa3b03-d12d-4fff-b071-57d67b52f4d8"
   },
   "outputs": [
    {
     "data": {
      "text/html": [
       "\n",
       "        <iframe\n",
       "            width=\"560\"\n",
       "            height=\"315\"\n",
       "            src=\"https://www.youtube.com/embed/vxHBmDKAqes\"\n",
       "            frameborder=\"0\"\n",
       "            allowfullscreen\n",
       "        ></iframe>\n",
       "        "
      ],
      "text/plain": [
       "<IPython.lib.display.IFrame at 0x10cb8a6d8>"
      ]
     },
     "execution_count": 1,
     "metadata": {},
     "output_type": "execute_result"
    }
   ],
   "source": [
    "from IPython.display import IFrame\n",
    "# https://www.youtube.com/embed/xxxxxxxxxxxx\n",
    "IFrame(\"https://www.youtube.com/embed/vxHBmDKAqes\", 560, 315)"
   ]
  },
  {
   "cell_type": "markdown",
   "metadata": {
    "colab_type": "text",
    "id": "-IdK6B9ShuAp"
   },
   "source": [
    "# ER Diagram\n",
    "\n",
    "<img src=\"Amusement.png\" alt=\"ER Diagram\">\n",
    "\n",
    "# ER Diagram Discussion\n",
    "The purpose of this entity relationship diagram is to track information on rides, customers, concessions, sales, employees, and food at an amusement park. Customers can ride rides and make purchases at concessions. To identify customers, the primary key CustomerID has the attributes name, email, age, gender, and pass type. Pass type includes season and single day passes. For each transaction, we give a saleID as a primary key, and track of the customer, food purchased, the employee that was involved, and the concession table. Not every transaction must be for food or at a concession table or has an employee involved. This table changes and needs to be updated when additional transactions occur. Concession tables are given a concessionID for their primary key and have a name, location, food type, and the employee’s ID. There will be one employee at every concession table. The EmployeeID is the primary key for the employee table which keeps track of the first and last name of the employee and their experience level. The EmployeeID is also a foreign key for the ride table in addition to the sales and concessions table. The Ride Table uses rideID as a primary key for each ride at the park and keeps track of its name, location, intensity, average wait time, and the employee. Lastly, our Food Table gives each food a foodID and gives information on its price and size. It has concessionID as a foreign key, telling us which concession the food is located at."
   ]
  },
  {
   "cell_type": "markdown",
   "metadata": {
    "colab_type": "text",
    "id": "H38QPURah34m"
   },
   "source": [
    "# Database Creation Discription\n",
    "The database was created first by making sure that any previous tables with the same name are dropped. Then the frame work of the data base is created, and each of the tables are created. Then, each table is filled with a random selection of their respective entities. The goal was to fill the tables to match the design of the ER diagram. It was also important to make sure that the tables with foreign keys, such as the sales table, had a value that matched a primary key in a separate table. Lastly, we wanted to make sure that no primary key was repeated in any table, so that all entities were clearly defined and unique."
   ]
  },
  {
   "cell_type": "code",
   "execution_count": 2,
   "metadata": {
    "colab": {},
    "colab_type": "code",
    "id": "oGIKLZSciGvn"
   },
   "outputs": [
    {
     "name": "stdout",
     "output_type": "stream",
     "text": [
      "('R001', 'Orions Belt', 'South', 'Intense', '35', 'E001')\n",
      "('R005', 'Cassipoeia', 'South', 'Medium', '25', 'E005')\n",
      "('R002', 'Ursa Major', 'West', 'Medium', '20', 'E002')\n",
      "('C001', 1)\n",
      "('C002', 2)\n",
      "('C003', 1)\n",
      "('C005', 1)\n",
      "('E001', 'Rich', 'Miller', 'Beginner')\n",
      "('E005', 'Tara', 'Creek', 'Beginner')\n"
     ]
    }
   ],
   "source": [
    "import sqlite3 \n",
    "connectionToDatabase = sqlite3.connect('AmusementParkData') \n",
    "cursor = connectionToDatabase.cursor()\n",
    "cursor.execute('''drop table IF EXISTS ConcessionsTable''')\n",
    "connectionToDatabase.commit()\n",
    "\n",
    "cursor.execute('''create table ConcessionsTable (concessionID PRIMARY KEY, name, location, foodtype,  employeeID)''')\n",
    "connectionToDatabase.commit()\n",
    "\n",
    "cursor.execute('''drop table IF EXISTS rideTable''')\n",
    "connectionToDatabase.commit()\n",
    "\n",
    "cursor.execute('''create table rideTable (rideID PRIMARY KEY, name, location, intensity, waitTime, employeeID)''')\n",
    "connectionToDatabase.commit()\n",
    " \n",
    "cursor.execute('''drop table IF EXISTS salesTable''')\n",
    "connectionToDatabase.commit()\n",
    "\n",
    "cursor.execute('''create table salesTable (saleID PRIMARY KEY, customerID, foodID, employeeID, concessionID)''')\n",
    "connectionToDatabase.commit()\n",
    "\n",
    "cursor.execute('''drop table IF EXISTS customerTable''')\n",
    "connectionToDatabase.commit()\n",
    "\n",
    "cursor.execute('''create table customerTable (customerID PRIMARY KEY, name, email, age, gender, passtype)''')\n",
    "\n",
    "cursor.execute('''drop table IF EXISTS employeeTable''')\n",
    "connectionToDatabase.commit()\n",
    "\n",
    "cursor.execute('''create table employeeTable (employeeID PRIMARY KEY, FirstName, LastName, ExperienceLevel)''')\n",
    "connectionToDatabase.commit()\n",
    "\n",
    "cursor.execute('''drop table IF EXISTS foodTable''')\n",
    "connectionToDatabase.commit()\n",
    "\n",
    "cursor.execute('''create table foodTable (foodID PRIMARY KEY, price, size, vegan, glutton free)''')\n",
    "connectionToDatabase.commit()\n",
    "\n",
    "insertStatement =  \"\"\"insert into foodTable values ('Taco', '4.00', 'Medium', 'Not-Vegan', 'Glutton Free')\"\"\" \n",
    "cursor.execute(insertStatement)\n",
    "insertStatement =  \"\"\"insert into foodTable values ('Wings', '5.00', 'Large', 'Not-Vegan', 'Glutton Free')\"\"\" \n",
    "cursor.execute(insertStatement)\n",
    "insertStatement =  \"\"\"insert into foodTable values ('Ice Cream', '3.00', 'Small', 'Vegan', 'Glutton Free')\"\"\" \n",
    "cursor.execute(insertStatement)\n",
    "insertStatement =  \"\"\"insert into foodTable values ('Burger', '4.00', 'Medium', 'Vegan', 'Glutton')\"\"\" \n",
    "cursor.execute(insertStatement)\n",
    "insertStatement =  \"\"\"insert into foodTable values ('Fish Sticks', '4.00', 'Medium','Not-Vegan', 'Glutton')\"\"\" \n",
    "cursor.execute(insertStatement)\n",
    "connectionToDatabase.commit()\n",
    "\n",
    "insertStatement =  \"\"\"insert into employeeTable values ('E001', 'Rich', 'Miller', 'Beginner')\"\"\" \n",
    "cursor.execute(insertStatement)\n",
    "insertStatement =  \"\"\"insert into employeeTable values ('E002', 'Andy', 'Ricter', 'Long-Time')\"\"\" \n",
    "cursor.execute(insertStatement)\n",
    "insertStatement =  \"\"\"insert into employeeTable values ('E003', 'Mandy', 'Albin', 'Manager')\"\"\" \n",
    "cursor.execute(insertStatement)\n",
    "insertStatement =  \"\"\"insert into employeeTable values ('E004', 'Sarah', 'Crea', 'Long-Time')\"\"\" \n",
    "cursor.execute(insertStatement)\n",
    "insertStatement =  \"\"\"insert into employeeTable values ('E005', 'Tara', 'Creek', 'Beginner')\"\"\" \n",
    "cursor.execute(insertStatement)\n",
    "connectionToDatabase.commit()\n",
    "\n",
    "insertStatement =  \"\"\"insert into customerTable values ('CU001', 'John', 'j@gmail.com', '22','male', 'day')\"\"\" \n",
    "cursor.execute(insertStatement)\n",
    "insertStatement =  \"\"\"insert into customerTable values ('CU002', 'Maria', 'm@gmail.com', '30','female', 'month')\"\"\" \n",
    "cursor.execute(insertStatement)\n",
    "insertStatement =  \"\"\"insert into customerTable values ('CU003', 'Donald', 'd@gmail.com','25', 'male', 'season')\"\"\" \n",
    "cursor.execute(insertStatement)\n",
    "insertStatement =  \"\"\"insert into customerTable values ('CU004', 'Kris', 'k@gmail.com','20', 'male', 'month')\"\"\" \n",
    "cursor.execute(insertStatement)\n",
    "insertStatement =  \"\"\"insert into customerTable values ('CU005', 'Rebecca', 'r@gmail.com','40', 'female', 'month')\"\"\" \n",
    "cursor.execute(insertStatement)\n",
    "connectionToDatabase.commit()\n",
    "\n",
    "insertStatement =  \"\"\"insert into salesTable values ('S001', 'CU001', 'F001', 'E001', 'C001')\"\"\" \n",
    "cursor.execute(insertStatement)\n",
    "insertStatement =  \"\"\"insert into salesTable values ('S002', 'CU002', 'F002', 'E002', 'C002')\"\"\" \n",
    "cursor.execute(insertStatement)\n",
    "insertStatement =  \"\"\"insert into salesTable values ('S003', 'CU003', 'F003', 'E003', 'C003')\"\"\" \n",
    "cursor.execute(insertStatement)\n",
    "insertStatement =  \"\"\"insert into salesTable values ('S004', 'CU004', 'F002', 'E002', 'C002')\"\"\" \n",
    "cursor.execute(insertStatement)\n",
    "insertStatement =  \"\"\"insert into salesTable values ('S005', 'CU005', 'F005', 'E005', 'C005')\"\"\" \n",
    "cursor.execute(insertStatement)\n",
    "connectionToDatabase.commit()\n",
    "\n",
    "insertStatement =  \"\"\"insert into rideTable values ('R001', 'Orions Belt', 'South', 'Intense', '35', 'E001')\"\"\" \n",
    "cursor.execute(insertStatement)\n",
    "insertStatement =  \"\"\"insert into rideTable values ('R002', 'Ursa Major', 'West', 'Medium', '20', 'E002')\"\"\" \n",
    "cursor.execute(insertStatement)\n",
    "insertStatement =  \"\"\"insert into rideTable values ('R003', 'Cyrus', 'North', 'Easy', '20', 'E003')\"\"\" \n",
    "cursor.execute(insertStatement)\n",
    "insertStatement =  \"\"\"insert into rideTable values ('R004', 'Cygnus', 'East', 'Easy', '15', 'E004')\"\"\" \n",
    "cursor.execute(insertStatement)\n",
    "insertStatement =  \"\"\"insert into rideTable values ('R005', 'Cassipoeia', 'South', 'Medium', '25', 'E005')\"\"\" \n",
    "cursor.execute(insertStatement)\n",
    "connectionToDatabase.commit()\n",
    "\n",
    "insertStatement =  \"\"\"insert into ConcessionsTable values ('C001', 'Mars', 'North','Mexican','E001')\"\"\" \n",
    "cursor.execute(insertStatement)\n",
    "insertStatement =  \"\"\"insert into ConcessionsTable values ('C002', 'Mercury', 'North','Western','E002')\"\"\" \n",
    "cursor.execute(insertStatement)\n",
    "insertStatement =  \"\"\"insert into ConcessionsTable values ('C003', 'Venus', 'South','Desserts','E003')\"\"\" \n",
    "cursor.execute(insertStatement)\n",
    "insertStatement =  \"\"\"insert into ConcessionsTable values ('C004', 'Jupiter', 'West','Sandwiches','E004')\"\"\" \n",
    "cursor.execute(insertStatement)\n",
    "insertStatement =  \"\"\"insert into ConcessionsTable values ('C005', 'Neptune', 'East','Seafood','E005')\"\"\" \n",
    "cursor.execute(insertStatement)\n",
    "connectionToDatabase.commit()\n",
    "\n",
    "cursor.execute('''select * from rideTable ORDER BY waitTime DESC limit 3''')\n",
    "for row in cursor.fetchall():\n",
    "  print (row)\n",
    "\n",
    "cursor.execute('''select concessionID,COUNT(saleID) from salesTable GROUP BY concessionID''')\n",
    "for row in cursor.fetchall():\n",
    "  print (row)\n",
    "\n",
    "cursor.execute('''select * from employeeTable WHERE ExperienceLevel is \"Beginner\"''')\n",
    "for row in cursor.fetchall():\n",
    "  print (row)"
   ]
  },
  {
   "cell_type": "markdown",
   "metadata": {
    "colab_type": "text",
    "id": "15dGAXRwiJCZ"
   },
   "source": [
    "#  Scenario \n",
    "For the scenario, we are going to follow a group of 6 friends going to the park for the day. At the gate, they would get park day passes, and their ticket number, first name, email, age, gender, and pass type would be recorded into the customer table. As the day goes on, more people come into the park, and thus the wait time of the rides increase. At about midday, the friends get hungry so they go to their favorite concession stands to get food. Here, the sales would be recorded in the sales table. The customer, concession, food, and employee would all be recorded with an associated sales number. When the group of friends get tired, they decide to head out. But they had such a fun time that they decide to upgrade their tickets to a month pass. So, the customer table is updated so that each of the friends now have “month” in the pass type attribute."
   ]
  },
  {
   "cell_type": "markdown",
   "metadata": {
    "colab_type": "text",
    "id": "e5Le6Lp8iQHd"
   },
   "source": [
    "#  3 Queries\n",
    "### 1: What are the 3 most popular rides? \n",
    "We think that knowing the 3 most popular rides will help us to understand what kinds of rides our customers like the best. This can help us plan if we ever want to invest in new rides we know what types to incorporate in the park. Also, knowing what rides are the most popular, we can figure out where there is more customer “traffic” and we can add more vendors selling food/drinks and toys to maximize profit.The users in the scenario can use this information as well to see which rides are the hottest attractions. We understand that people travel far distances to have the ultimate Planet Fun Experience and going on the 3 most popular rides is definitely part of the experience!\n"
   ]
  },
  {
   "cell_type": "code",
   "execution_count": 3,
   "metadata": {
    "colab": {},
    "colab_type": "code",
    "id": "7DbnhfTopYxA"
   },
   "outputs": [
    {
     "name": "stdout",
     "output_type": "stream",
     "text": [
      "('R001', 'Orions Belt', 'South', 'Intense', '35', 'E001')\n",
      "('R005', 'Cassipoeia', 'South', 'Medium', '25', 'E005')\n",
      "('R002', 'Ursa Major', 'West', 'Medium', '20', 'E002')\n"
     ]
    }
   ],
   "source": [
    "cursor.execute('''select * from rideTable ORDER BY waitTime DESC limit 3''')\n",
    "for row in cursor.fetchall():\n",
    "  print (row)"
   ]
  },
  {
   "cell_type": "markdown",
   "metadata": {
    "colab_type": "text",
    "id": "rUKfrXtsrIN7"
   },
   "source": [
    "### 2: What are the top 5 concessions sold at the park? \n",
    "We decided to explore which of our concessions are most popular in order to better allocate our resources. For example if we see that there are concessions that are significantly more popular, we can sell them at additional locations.  We also may want to advertise more popular concessions and perhaps order more of those concessions to keep up with demand.The users in the scenario can also use this information if they cannot decide where they want to eat, they can use the top 5 concessions to come to a consensus, rather deciding from over 60 food options we have at the park!"
   ]
  },
  {
   "cell_type": "code",
   "execution_count": 4,
   "metadata": {
    "colab": {},
    "colab_type": "code",
    "id": "3gdzZVtJpkkD"
   },
   "outputs": [
    {
     "name": "stdout",
     "output_type": "stream",
     "text": [
      "('C001', 1)\n",
      "('C002', 2)\n",
      "('C003', 1)\n",
      "('C005', 1)\n"
     ]
    }
   ],
   "source": [
    "cursor.execute('''select concessionID,COUNT(saleID) from salesTable GROUP BY concessionID''')\n",
    "for row in cursor.fetchall():\n",
    "  print (row)"
   ]
  },
  {
   "cell_type": "markdown",
   "metadata": {
    "colab_type": "text",
    "id": "EjE1nYT6rNIf"
   },
   "source": [
    "## 3: What are the 3 rides with the lowest wait times?\n",
    "This is helpful to the user in the scenario because if they are in a rush, about to leave, or are tired and don't want to wait a long time to go on a ride they know where to go! This information can also be helpful to the park owner so they know that these rides don't have many people populating them so they should consider adding attractions near the rides like popular concessions or games like dunk tanks and ring toss. "
   ]
  },
  {
   "cell_type": "code",
   "execution_count": 5,
   "metadata": {
    "colab": {},
    "colab_type": "code",
    "id": "jg85s3lJprDl",
    "scrolled": true
   },
   "outputs": [
    {
     "name": "stdout",
     "output_type": "stream",
     "text": [
      "('R004', 'Cygnus', 'East', 'Easy', '15', 'E004')\n",
      "('R002', 'Ursa Major', 'West', 'Medium', '20', 'E002')\n",
      "('R003', 'Cyrus', 'North', 'Easy', '20', 'E003')\n"
     ]
    }
   ],
   "source": [
    "cursor.execute('''select * from rideTable ORDER BY waitTime limit 3''')\n",
    "for row in cursor.fetchall():\n",
    "  print (row)"
   ]
  },
  {
   "cell_type": "code",
   "execution_count": null,
   "metadata": {},
   "outputs": [],
   "source": []
  }
 ],
 "metadata": {
  "colab": {
   "collapsed_sections": [],
   "name": "FinalProject.ipynb",
   "provenance": []
  },
  "kernelspec": {
   "display_name": "Python 3",
   "language": "python",
   "name": "python3"
  },
  "language_info": {
   "codemirror_mode": {
    "name": "ipython",
    "version": 3
   },
   "file_extension": ".py",
   "mimetype": "text/x-python",
   "name": "python",
   "nbconvert_exporter": "python",
   "pygments_lexer": "ipython3",
   "version": "3.7.3"
  }
 },
 "nbformat": 4,
 "nbformat_minor": 1
}
