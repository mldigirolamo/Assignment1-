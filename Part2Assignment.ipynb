{
 "cells": [
  {
   "cell_type": "markdown",
   "metadata": {},
   "source": [
    "## Overview\n",
    "This idea is of an Amusement Park named Planet Fun with hundreds of rides, activities, concessions, and employees. The idea of an Amusement Park is one that has been around for years, but what makes this park special is that it is Space Themed! We are taking this idea to the next level by making the entire zero gravity! It will be just like you are floating around in space. It is an incredible mix of fun and science that the whole family will love. The rides will range from twisty rollercoasters to light playground swings. There will be a cool mix of science presented at each ride so that the kids will be able to learn something new while having so much fun. Don’t worry, there will also be a variety of food options that will cater to everyone and their allergies. A typical business transaction or day at Planet Fun would be tickets for entry priced at different values: 70 dollars for adults, which would be 10 and older. For kids that are younger than 10, it would be priced at 35 dollars. The food is available inside the park at different concession, but will be a separate cost for customers not included in the ticket cost. All the food is priced differently. Some popular food items at the park include fries, chicken nugget, and popsicles! Some of the most popular rides are Planet Fun are the Rover (the biggest rollercoaster), zero gravity trampoline, and the Mega Swing!\n",
    "\n",
    "## Tables \n",
    "For the amusement park the five entities we specified are: End users (customers), employees, rides, concessions, food/drinks. As a group, we decided that these factors are the most integral parts of our amusement park business and that we need to focus on how to sort data in order to see where we have to optimize our business.\n",
    "\n",
    "1.  The end user entity was created for the for the fact that they are the customers of our business, the ones who are spending money and time at our establishment and telling others and sharing their experience at the park whether it is person to person or on social media. The attributes needed for this entity are ticket number, age, and gender, sale, and employee involved. All sales, from food to ticket, could be attached to the customer involved. A constraint for ticket number would be 100,000 which is the maximum capacity of the park. Also there would be a constraint for gender male,female, or other. These attributes will help us understand our park dynamic and main audience we are attracting. It will help with marketing. \n",
    "\n",
    "2.  The employee entity was created because they are an integral part of running the amusement park and making sure everything is running smoothly. Attributes would be their level with constraints of beginner, long-time, and manager.Another attribute would be where they work- rides or concessions. It is important to track the employees and their performance. They are a reflection on the amusement park.\n",
    "\n",
    "3. The ride entity was created because they are the main attraction of our business. They are the main reason people spend money to come to our park so we want to keep track of information pertaining to them. The different attributes of the rides would be location, intensity, and typical wait time. The constraints of wait time would be in increments of 5 minutes up to 40 minutes (max wait time). Constraints of location are north, south, east, or west. And the constraints for ride intensity are easy, medium, and intense. \n",
    "\n",
    "4.  The concessions entity was created because we want to pinpoint which stands are doing well and which aren’t. This is important because the stands are another huge money maker. Attributes would be types of food that are sold within each concession  (fast, italian, or ice cream), where the stands are located (north, south, east, or west). \n",
    "\n",
    "5. The Food/drink entity was included because they are what is physically put in the concessions and what is stocked at any given time. The different attributes would include available items, cost of items, size of items, and item descriptors such as gluten free or vegan. The available items are related to the concessions entity because that is the items the concessions can sell. The size of items would be constrained to small, medium, and large.  The descriptors would be constrained to either vegan or not, and gluten free or not. \n",
    "\n",
    "## Goal\n",
    "Our goal is to figure out which types of rides and concessions are the most popular.  We will use table 1, 2, and 3 to help us categorize the rides and concessions, and will use the fifth table to see in real time which rides and concessions are most popular.  We want to see if things like rollercoasters are more popular than water rides, or what kind of nutrition for food our customers prefer.  This will let us know which kinds of rides and concessions we should include when we expand our park. \n",
    "\n",
    "## Relational Diagram \n",
    "![title](AmusementPark.png)"
   ]
  }
 ],
 "metadata": {
  "kernelspec": {
   "display_name": "Python 3",
   "language": "python",
   "name": "python3"
  },
  "language_info": {
   "codemirror_mode": {
    "name": "ipython",
    "version": 3
   },
   "file_extension": ".py",
   "mimetype": "text/x-python",
   "name": "python",
   "nbconvert_exporter": "python",
   "pygments_lexer": "ipython3",
   "version": "3.7.3"
  }
 },
 "nbformat": 4,
 "nbformat_minor": 2
}
